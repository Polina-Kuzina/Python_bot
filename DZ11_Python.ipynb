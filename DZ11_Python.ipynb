{
 "cells": [
  {
   "cell_type": "markdown",
   "id": "f408bab5",
   "metadata": {},
   "source": [
    "# Домашнее задание №11"
   ]
  },
  {
   "cell_type": "markdown",
   "id": "a6b8d534",
   "metadata": {},
   "source": [
    "## Кубическое уравнение общего вида f(x) = ax^3 + bх^2 + cx - d"
   ]
  },
  {
   "cell_type": "markdown",
   "id": "c5ecfa1d",
   "metadata": {},
   "source": [
    "Примечание: подставляла значения a,b,c,d так, чтобы вывод результата был более читабельным"
   ]
  },
  {
   "cell_type": "code",
   "execution_count": 26,
   "id": "f8f17a5c",
   "metadata": {},
   "outputs": [],
   "source": [
    "import math\n",
    "from sympy import *\n",
    "import sympy as sp\n",
    "import numpy as np"
   ]
  },
  {
   "cell_type": "markdown",
   "id": "c764951d",
   "metadata": {},
   "source": [
    "## 1. Определяем корни уравнения"
   ]
  },
  {
   "cell_type": "code",
   "execution_count": 42,
   "id": "073c06b7",
   "metadata": {},
   "outputs": [
    {
     "name": "stdout",
     "output_type": "stream",
     "text": [
      "0.5\n",
      "1.5\n",
      "0.8\n",
      "-30\n",
      "корни уравнения: [3.02558218623926, -3.01279109311963 - 3.27932675310423*I, -3.01279109311963 + 3.27932675310423*I]\n"
     ]
    }
   ],
   "source": [
    "x = Symbol('x')\n",
    "a, b, c, d = (float(input()) for i in 'abcd')\n",
    "Sol3 = sp.solve(a * x ** 3 + b * x ** 2 + c * x + d, x)\n",
    "print('корни уравнения:', Sol3)"
   ]
  },
  {
   "cell_type": "markdown",
   "id": "32f75e9c",
   "metadata": {},
   "source": [
    "## 2,3. Интервалы возрастания и убывания функции"
   ]
  },
  {
   "cell_type": "code",
   "execution_count": 39,
   "id": "9cdc21c2",
   "metadata": {},
   "outputs": [
    {
     "name": "stdout",
     "output_type": "stream",
     "text": [
      "экстремумы функции [-1.68313005106397, -0.316869948936027]\n",
      "функция возрастает на отрезках: от минус бесконечности до -1.68313005106397 и от -0.316869948936027 до плюс бесконечности\n",
      "функция убывает на отрезке от -1.68313005106397 до -0.316869948936027\n"
     ]
    }
   ],
   "source": [
    "x = Symbol('x')\n",
    "f = 0.5*x**3 + 1.5*x**2 + 0.8*x - 30\n",
    "yprime = f.diff(x)\n",
    "extr = list(solveset(yprime))\n",
    "print(f'экстремумы функции {extr}')\n",
    "print(f'функция возрастает на отрезках: от минус бесконечности до {extr[0]} и от {extr[1]} до плюс бесконечности\\nфункция убывает на отрезке от {extr[0]} до {extr[1]}')"
   ]
  },
  {
   "cell_type": "markdown",
   "id": "6e74db62",
   "metadata": {},
   "source": [
    "## 4. График функции"
   ]
  },
  {
   "cell_type": "markdown",
   "id": "3bd14ebf",
   "metadata": {},
   "source": [
    "С помощью библиотеки SymPy"
   ]
  },
  {
   "cell_type": "code",
   "execution_count": 31,
   "id": "73eebbc6",
   "metadata": {},
   "outputs": [
    {
     "name": "stdout",
     "output_type": "stream",
     "text": [
      "0.5\n",
      "1.5\n",
      "0.8\n",
      "-30\n"
     ]
    },
    {
     "data": {
      "image/png": "[encoded data removed]",
      "text/plain": [
       "<Figure size 432x288 with 1 Axes>"
      ]
     },
     "metadata": {
      "needs_background": "light"
     },
     "output_type": "display_data"
    },
    {
     "name": "stdout",
     "output_type": "stream",
     "text": [
      "0.5*x**3 + 1.5*x**2 + 0.8*x - 30.0\n"
     ]
    }
   ],
   "source": [
    "from sympy.plotting import plot\n",
    "\n",
    "\n",
    "init_printing()\n",
    "x = Symbol('x')\n",
    "a, b, c, d = (float(input()) for i in 'abcd')\n",
    "f = a * x ** 3 + b * x ** 2 + c * x + d\n",
    "# f = 18*x**3 + 5*x**2 + 10*x - 30\n",
    "plot(f)\n",
    "print(f)"
   ]
  },
  {
   "cell_type": "markdown",
   "id": "ee8ad1ef",
   "metadata": {},
   "source": [
    "С помощью библиотеки matpotlib"
   ]
  },
  {
   "cell_type": "code",
   "execution_count": 45,
   "id": "ebc10226",
   "metadata": {},
   "outputs": [
    {
     "name": "stdout",
     "output_type": "stream",
     "text": [
      "0.5\n",
      "1.5\n",
      "0.8\n",
      "-30\n"
     ]
    },
    {
     "data": {
      "image/png": "[encoded data removed]",
      "text/plain": [
       "<Figure size 432x288 with 1 Axes>"
      ]
     },
     "metadata": {
      "needs_background": "light"
     },
     "output_type": "display_data"
    }
   ],
   "source": [
    "import matplotlib.pyplot as plt\n",
    "\n",
    "x = np.linspace(-10, 10, 10)\n",
    "a, b, c, d = (float(input()) for i in 'abcd')\n",
    "f = a * x ** 3 + b * x ** 2 + c * x + d\n",
    "fig, ax = plt.subplots()\n",
    "ax.plot(x, f, color=\"blue\", label=\"f(x)\")\n",
    "plt.show()"
   ]
  },
  {
   "cell_type": "markdown",
   "id": "53dd4c30",
   "metadata": {},
   "source": [
    "## 5. Определить промежутки, на котором f > 0 и f < 0"
   ]
  },
  {
   "cell_type": "code",
   "execution_count": 52,
   "id": "3ab4d972",
   "metadata": {},
   "outputs": [
    {
     "name": "stdout",
     "output_type": "stream",
     "text": [
      "f < 0 на участке от x < 3.02558218623926\n",
      "f > 0 на участке от x > 3.02558218623926\n"
     ]
    }
   ],
   "source": [
    "x = Symbol('x')\n",
    "f0 = list(solveset(0.5*x**3 + 1.5*x**2 + 0.8*x - 30.0, x))\n",
    "print(f'f < 0 на участке от x < {f0[0]}\\nf > 0 на участке от x > {f0[0]}')"
   ]
  }
 ],
 "metadata": {
  "kernelspec": {
   "display_name": "Python 3 (ipykernel)",
   "language": "python",
   "name": "python3"
  },
  "language_info": {
   "codemirror_mode": {
    "name": "ipython",
    "version": 3
   },
   "file_extension": ".py",
   "mimetype": "text/x-python",
   "name": "python",
   "nbconvert_exporter": "python",
   "pygments_lexer": "ipython3",
   "version": "3.9.12"
  }
 },
 "nbformat": 4,
 "nbformat_minor": 5
}
